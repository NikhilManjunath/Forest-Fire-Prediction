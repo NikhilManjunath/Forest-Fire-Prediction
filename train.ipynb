{
 "cells": [
  {
   "attachments": {},
   "cell_type": "markdown",
   "metadata": {},
   "source": [
    "### Importing Libraries"
   ]
  },
  {
   "cell_type": "code",
   "execution_count": 1,
   "metadata": {},
   "outputs": [],
   "source": [
    "import numpy as np\n",
    "import pandas as pd\n",
    "import random\n",
    "import matplotlib.pyplot as plt\n",
    "import seaborn as sns\n",
    "from sklearn.decomposition import PCA\n",
    "from sklearn.neural_network import MLPClassifier\n",
    "from keras.models import Sequential\n",
    "from keras.layers import Dense\n",
    "from sklearn.neighbors import KNeighborsClassifier\n",
    "from sklearn.linear_model import LogisticRegression\n",
    "from sklearn.linear_model import RidgeClassifier\n",
    "from sklearn.svm import SVC\n",
    "from sklearn.metrics import *\n",
    "from sklearn.feature_selection import SequentialFeatureSelector\n",
    "from sklearn.preprocessing import PolynomialFeatures\n",
    "from sklearn.preprocessing import StandardScaler\n",
    "from sklearn.ensemble import RandomForestClassifier\n",
    "\n",
    "\n",
    "#Supress Sklearn Warnings\n",
    "def warn(*args, **kwargs):\n",
    "    pass\n",
    "import warnings\n",
    "warnings.warn = warn"
   ]
  },
  {
   "attachments": {},
   "cell_type": "markdown",
   "metadata": {},
   "source": [
    "### Importing our functions"
   ]
  },
  {
   "cell_type": "code",
   "execution_count": 2,
   "metadata": {},
   "outputs": [],
   "source": [
    "from functions import (compute_metrics,trivial,nearest_means,PCA_analysis,\n",
    "                       PCA_func,seq_feat_selector,k_fold,cross_val)"
   ]
  },
  {
   "attachments": {},
   "cell_type": "markdown",
   "metadata": {},
   "source": [
    "### Importing the Datasets"
   ]
  },
  {
   "cell_type": "code",
   "execution_count": 3,
   "metadata": {},
   "outputs": [],
   "source": [
    "train = pd.read_csv('algerian_fires_train.csv')\n",
    "test = pd.read_csv('algerian_fires_test.csv')"
   ]
  },
  {
   "attachments": {},
   "cell_type": "markdown",
   "metadata": {},
   "source": [
    "### Feature Engineering"
   ]
  },
  {
   "attachments": {},
   "cell_type": "markdown",
   "metadata": {},
   "source": [
    "#### Creating Additional Features from Existing Features"
   ]
  },
  {
   "cell_type": "code",
   "execution_count": 4,
   "metadata": {},
   "outputs": [],
   "source": [
    "frames = [train,test] #Combining train and test datasets \n",
    "data = pd.concat(frames)      "
   ]
  },
  {
   "attachments": {},
   "cell_type": "markdown",
   "metadata": {},
   "source": [
    "#### 1. Creating Avgerage,Min,Max features for Temp, RH, Ws, Rain based on recordings for the past 7 days"
   ]
  },
  {
   "cell_type": "code",
   "execution_count": 5,
   "metadata": {},
   "outputs": [],
   "source": [
    "data = data.assign(Avg_Temp = data.rolling(6,min_periods=1,closed='left').Temperature.mean()) \n",
    "data['Avg_Temp'][1::2]=data.rolling(7,min_periods=1,closed='left').Temperature.mean()[1::2]  \n",
    "data = data.assign(Min_Temp = data.rolling(6,min_periods=1,closed='left').Temperature.min())\n",
    "data['Min_Temp'][1::2]=data.rolling(7,min_periods=1,closed='left').Temperature.min()[1::2]\n",
    "data = data.assign(Max_Temp = data.rolling(6,min_periods=1,closed='left').Temperature.max())\n",
    "data['Max_Temp'][1::2]=data.rolling(7,min_periods=1,closed='left').Temperature.max()[1::2]\n",
    "\n",
    "data = data.assign(Avg_RH = data.rolling(6,min_periods=1,closed='left').RH.mean())\n",
    "data['Avg_RH'][1::2]=data.rolling(7,min_periods=1,closed='left').RH.mean()[1::2]\n",
    "data = data.assign(Min_RH = data.rolling(6,min_periods=1,closed='left').RH.min())\n",
    "data['Min_RH'][1::2]=data.rolling(7,min_periods=1,closed='left').RH.min()[1::2]\n",
    "data = data.assign(Max_RH = data.rolling(6,min_periods=1,closed='left').RH.max())\n",
    "data['Max_RH'][1::2]=data.rolling(7,min_periods=1,closed='left').RH.max()[1::2]\n",
    "\n",
    "data = data.assign(Avg_Ws = data.rolling(6,min_periods=1,closed='left').Ws.mean())\n",
    "data['Avg_Ws'][1::2]=data.rolling(7,min_periods=1,closed='left').Ws.mean()[1::2]\n",
    "data = data.assign(Min_Ws = data.rolling(6,min_periods=1,closed='left').Ws.min())\n",
    "data['Min_Ws'][1::2]=data.rolling(7,min_periods=1,closed='left').Ws.min()[1::2]\n",
    "data = data.assign(Max_Ws = data.rolling(6,min_periods=1,closed='left').Ws.max())\n",
    "data['Max_Ws'][1::2]=data.rolling(7,min_periods=1,closed='left').Ws.max()[1::2]\n",
    "\n",
    "data = data.assign(Avg_Rain = data.rolling(6,min_periods=1,closed='left').Rain.mean())\n",
    "data['Avg_Rain'][1::2]=data.rolling(7,min_periods=1,closed='left').Rain.mean()[1::2]\n",
    "data = data.assign(Min_Rain = data.rolling(6,min_periods=1,closed='left').Rain.min())\n",
    "data['Min_Rain'][1::2]=data.rolling(7,min_periods=1,closed='left').Rain.min()[1::2]\n",
    "data = data.assign(Max_Rain = data.rolling(6,min_periods=1,closed='left').Rain.max())\n",
    "data['Max_Rain'][1::2]=data.rolling(7,min_periods=1,closed='left').Rain.max()[1::2]"
   ]
  },
  {
   "cell_type": "code",
   "execution_count": 6,
   "metadata": {},
   "outputs": [],
   "source": [
    "#Filling the NaN values of first data point with same dates values\n",
    "data.iloc[0,11] = data.iloc[0,1]\n",
    "data.iloc[0,12] = data.iloc[0,1]\n",
    "data.iloc[0,13] = data.iloc[0,1]\n",
    "data.iloc[0,14] = data.iloc[0,2]\n",
    "data.iloc[0,15] = data.iloc[0,2]\n",
    "data.iloc[0,16] = data.iloc[0,2]\n",
    "data.iloc[0,17] = data.iloc[0,3]\n",
    "data.iloc[0,18] = data.iloc[0,3]\n",
    "data.iloc[0,19] = data.iloc[0,3]\n",
    "data.iloc[0,20] = data.iloc[0,4]\n",
    "data.iloc[0,21] = data.iloc[0,4]\n",
    "data.iloc[0,22] = data.iloc[0,4]"
   ]
  },
  {
   "attachments": {},
   "cell_type": "markdown",
   "metadata": {},
   "source": [
    "#### 2. Adding a New Feature of Weekday/Weekend to see if Fires are more common during Weekdays/Weekends"
   ]
  },
  {
   "cell_type": "code",
   "execution_count": 7,
   "metadata": {},
   "outputs": [],
   "source": [
    "data['Date'] = pd.to_datetime(data.Date, dayfirst=True)\n",
    "data['Day of Week'] = data['Date'].dt.dayofweek\n",
    "data['Weekday/Weekend'] = np.where(data['Day of Week'] < 5, 1, 0)"
   ]
  },
  {
   "attachments": {},
   "cell_type": "markdown",
   "metadata": {},
   "source": [
    "#### 3. Creating Higher Dimensional Features using Sklearn Polynomial Features Function\n"
   ]
  },
  {
   "cell_type": "code",
   "execution_count": 8,
   "metadata": {},
   "outputs": [],
   "source": [
    "columns = ['Temperature', 'RH', 'Ws', 'Rain', 'FFMC', 'DMC', 'DC', 'ISI', 'BUI']\n",
    "poly = PolynomialFeatures(2)\n",
    "expanded_data = poly.fit_transform(data[columns])\n",
    "feature_names = poly.get_feature_names_out(input_features=None)\n",
    "\n",
    "expanded_data = pd.DataFrame(expanded_data, columns=feature_names)\n",
    "expanded_data = expanded_data.drop(columns=['1'])"
   ]
  },
  {
   "attachments": {},
   "cell_type": "markdown",
   "metadata": {},
   "source": [
    "#### Reordering Data Indices"
   ]
  },
  {
   "cell_type": "code",
   "execution_count": 10,
   "metadata": {},
   "outputs": [],
   "source": [
    "data.reset_index(inplace=True)\n",
    "\n",
    "expanded_data.insert(1, \"Avg_Temp\", data['Avg_Temp'])\n",
    "expanded_data.insert(2, \"Min_Temp\", data['Min_Temp'])\n",
    "expanded_data.insert(3, \"Max_Temp\", data['Max_Temp'])\n",
    "\n",
    "expanded_data.insert(5, \"Avg_RH\", data['Avg_RH'])\n",
    "expanded_data.insert(6, \"Min_RH\", data['Min_RH'])\n",
    "expanded_data.insert(7, \"Max_RH\", data['Max_RH'])\n",
    "\n",
    "expanded_data.insert(9, \"Avg_Ws\", data['Avg_Ws'])\n",
    "expanded_data.insert(10, \"Min_Ws\", data['Min_Ws'])\n",
    "expanded_data.insert(11, \"Max_Ws\", data['Max_Ws'])\n",
    "\n",
    "expanded_data.insert(12, \"Avg_Rain\", data['Avg_Rain'])\n",
    "expanded_data.insert(13, \"Min_Rain\", data['Min_Rain'])\n",
    "expanded_data.insert(14, \"Max_Rain\", data['Max_Rain'])\n",
    "expanded_data.insert(0, \"Weekday/Weekend\", data['Weekday/Weekend'])\n",
    "expanded_data.insert(1, \"Classes\", data['Classes'])\n",
    "\n",
    "expanded_data.insert(len(expanded_data.columns)-1, 'Classes', expanded_data.pop('Classes'))"
   ]
  },
  {
   "attachments": {},
   "cell_type": "markdown",
   "metadata": {},
   "source": [
    "### Train-Test Split"
   ]
  },
  {
   "cell_type": "code",
   "execution_count": 11,
   "metadata": {},
   "outputs": [],
   "source": [
    "columns = []\n",
    "for column in expanded_data.columns:\n",
    "    columns.append(column)\n",
    "\n",
    "expanded_train = expanded_data[:184]\n",
    "expanded_train = pd.DataFrame(expanded_train, columns=columns)\n",
    "expanded_test = expanded_data[184:]\n",
    "expanded_test = pd.DataFrame(expanded_test, columns=columns)\n",
    "\n",
    "expanded_train.drop(expanded_train.tail(6).index,inplace=True)  #Dropping the last 3 dates before test data first date"
   ]
  },
  {
   "attachments": {},
   "cell_type": "markdown",
   "metadata": {},
   "source": [
    "### Standardization"
   ]
  },
  {
   "cell_type": "code",
   "execution_count": 12,
   "metadata": {},
   "outputs": [],
   "source": [
    "scaler = StandardScaler()\n",
    "scaler.fit(expanded_train.loc[:, expanded_train.columns != 'Classes'])\n",
    "\n",
    "expanded_train.loc[:, expanded_train.columns != 'Classes'] = scaler.transform(expanded_train.loc[:, expanded_train.columns != 'Classes'])\n",
    "expanded_train = pd.DataFrame(expanded_train, columns=columns)\n",
    "expanded_test.loc[:, expanded_test.columns != 'Classes'] = scaler.transform(expanded_test.loc[:, expanded_test.columns != 'Classes'])\n",
    "expanded_test = pd.DataFrame(expanded_test, columns=columns)"
   ]
  },
  {
   "attachments": {},
   "cell_type": "markdown",
   "metadata": {},
   "source": [
    "#### Appending Class Labels to the End"
   ]
  },
  {
   "cell_type": "code",
   "execution_count": 13,
   "metadata": {},
   "outputs": [],
   "source": [
    "expanded_train.insert(len(expanded_train.columns)-1, 'Classes', expanded_train.pop('Classes'))\n",
    "expanded_test.insert(len(expanded_test.columns)-1, 'Classes', expanded_test.pop('Classes'))"
   ]
  },
  {
   "attachments": {},
   "cell_type": "markdown",
   "metadata": {},
   "source": [
    "#### Seperating the Features and the Class Labels"
   ]
  },
  {
   "cell_type": "code",
   "execution_count": 14,
   "metadata": {},
   "outputs": [],
   "source": [
    "expanded_train_features = expanded_train.drop(columns=['Classes'])\n",
    "expanded_train_classes = expanded_train['Classes']\n",
    "\n",
    "expanded_test_features = expanded_test.drop(columns=['Classes'])\n",
    "expanded_test_classes = expanded_test['Classes']"
   ]
  },
  {
   "attachments": {},
   "cell_type": "markdown",
   "metadata": {},
   "source": [
    "### PCA Analysis"
   ]
  },
  {
   "cell_type": "code",
   "execution_count": 15,
   "metadata": {},
   "outputs": [
    {
     "data": {
      "image/png": "[encoded data removed]",
      "text/plain": [
       "<Figure size 432x288 with 1 Axes>"
      ]
     },
     "metadata": {
      "needs_background": "light"
     },
     "output_type": "display_data"
    },
    {
     "data": {
      "image/png": "[encoded data removed]",
      "text/plain": [
       "<Figure size 432x288 with 1 Axes>"
      ]
     },
     "metadata": {
      "needs_background": "light"
     },
     "output_type": "display_data"
    }
   ],
   "source": [
    "PCA_analysis(expanded_train_features)"
   ]
  },
  {
   "attachments": {},
   "cell_type": "markdown",
   "metadata": {},
   "source": [
    "## Models"
   ]
  },
  {
   "attachments": {},
   "cell_type": "markdown",
   "metadata": {},
   "source": [
    "### 1. Support Vector Machines (SVM)"
   ]
  },
  {
   "cell_type": "code",
   "execution_count": 16,
   "metadata": {},
   "outputs": [],
   "source": [
    "def SVM_func(folds,folds_classes):\n",
    "    max_accuracy = 0\n",
    "    max_f1_score = 0\n",
    "    best_C = 0\n",
    "    best_gamma = 0\n",
    "    best_kernel = 'None'\n",
    "    C_list = [0.1,1,10,100,1000]\n",
    "    gamma_list = [1,0.1,0.01,0.001,0.0001]\n",
    "    kernel_list = ['rbf','linear','poly']\n",
    "    for i in range(len(C_list)):\n",
    "        for j in range(len(gamma_list)):\n",
    "            for k in range(len(kernel_list)):\n",
    "                accuracy = []\n",
    "                scores_list=[]\n",
    "                train_features_folds,train_classes_folds,val_features_folds,val_classes_folds = cross_val(folds,folds_classes)\n",
    "                for l in range(len(train_classes_folds)):\n",
    "                    sv = SVC(C=C_list[i],gamma=gamma_list[j],kernel=kernel_list[k])\n",
    "                    sv.fit(train_features_folds[l],train_classes_folds[l])\n",
    "                    Y_pred_svm = sv.predict(val_features_folds[l].values)\n",
    "                    svm_score=accuracy_score(val_classes_folds[l],Y_pred_svm)*100\n",
    "                    svm_f1_score = f1_score(val_classes_folds[l],Y_pred_svm)\n",
    "                    scores_list.append(svm_f1_score)\n",
    "                    accuracy.append(svm_score)\n",
    "                \n",
    "                if np.mean(scores_list) > max_f1_score:\n",
    "                    max_f1_score = np.mean(scores_list)\n",
    "                    best_C = C_list[i]\n",
    "                    best_gamma = gamma_list[j]\n",
    "                    best_kernel = kernel_list[k]\n",
    "                \n",
    "    \n",
    "    print('SVM has the best f1_score of ', max_f1_score, ' for: C = ', best_C, ' , gamma = ', best_gamma, ' , kernel = ', best_kernel)    "
   ]
  },
  {
   "attachments": {},
   "cell_type": "markdown",
   "metadata": {},
   "source": [
    "### 2. Sklearn Neural Network"
   ]
  },
  {
   "cell_type": "code",
   "execution_count": 17,
   "metadata": {},
   "outputs": [],
   "source": [
    "def NN(folds,folds_classes):\n",
    "    accuracy = []\n",
    "    scores_list = []\n",
    "    train_features_folds,train_classes_folds,val_features_folds,val_classes_folds = cross_val(folds,folds_classes)\n",
    "    classifier = MLPClassifier(hidden_layer_sizes=(200,200,200,200),max_iter=300,shuffle=False,random_state=3)\n",
    "    for i in range(len(train_classes_folds)):\n",
    "        classifier.fit(train_features_folds[i],train_classes_folds[i])\n",
    "        acc = classifier.score(val_features_folds[i],val_classes_folds[i])\n",
    "        y_pred = classifier.predict(val_features_folds[i])\n",
    "        f1score = f1_score(val_classes_folds[i],y_pred)\n",
    "        accuracy.append(acc) \n",
    "        scores_list.append(f1score)\n",
    "    print (f'Accuracy: NN is {np.mean(accuracy)*100}%')\n",
    "    print(f'F1 Score: NN {np.mean(scores_list)}') "
   ]
  },
  {
   "attachments": {},
   "cell_type": "markdown",
   "metadata": {},
   "source": [
    "### 3. Keras ANN"
   ]
  },
  {
   "cell_type": "code",
   "execution_count": 18,
   "metadata": {},
   "outputs": [],
   "source": [
    "def ANN_keras(folds,folds_classes):\n",
    "    accuracy = []\n",
    "    scores_list = []\n",
    "    train_features_folds,train_classes_folds,val_features_folds,val_classes_folds = cross_val(folds,folds_classes)\n",
    "    for i in range(len(train_classes_folds)):\n",
    "        classifier = Sequential()\n",
    "        classifier.add(Dense(units=10,kernel_initializer='he_normal',activation='relu'))\n",
    "        classifier.add(Dense(units=7,kernel_initializer='he_normal',activation='relu'))\n",
    "        classifier.add(Dense(units=1,kernel_initializer='he_normal',activation='sigmoid'))\n",
    "        classifier.compile(optimizer='adam',loss='binary_crossentropy',metrics=['accuracy'])\n",
    "        classifier.fit(train_features_folds[i],train_classes_folds[i],epochs=100,verbose=0)\n",
    "        y_pred_nn = (classifier.predict(val_features_folds[i])>0.5)\n",
    "        accuracy.append(accuracy_score(y_pred_nn,val_classes_folds[i]))\n",
    "        scores_list.append(f1_score(val_classes_folds[i],y_pred_nn)) \n",
    "    print (f'Acc: KerasNN is {np.mean(accuracy)*100}%')\n",
    "    print (f'f1score: KerasNN is {np.mean(scores_list)}')  "
   ]
  },
  {
   "attachments": {},
   "cell_type": "markdown",
   "metadata": {},
   "source": [
    "### 4. K Nearest Neighbors (KNN)"
   ]
  },
  {
   "cell_type": "code",
   "execution_count": 19,
   "metadata": {},
   "outputs": [],
   "source": [
    "def KNN(folds,folds_classes):\n",
    "    max_accuracy = 0\n",
    "    max_f1_score = 0\n",
    "    best_n = 0\n",
    "    best_weight = 'None'\n",
    "    best_metric = 'None'\n",
    "    neighbors_list = [1,2,3,4,5,6,7,8,9,10]\n",
    "    weight_list = ['uniform','distance']\n",
    "    metric_list = ['minkowski','chebyshev','euclidean']\n",
    "    for i in range(len(neighbors_list)):\n",
    "        for j in range(len(weight_list)):\n",
    "            for k in range(len(metric_list)):\n",
    "                accuracy = []\n",
    "                scores_list =[]\n",
    "                train_features_folds,train_classes_folds,val_features_folds,val_classes_folds = cross_val(folds,folds_classes)\n",
    "                for l in range(len(train_classes_folds)):\n",
    "                    knn = KNeighborsClassifier(n_neighbors=neighbors_list[i],weights=weight_list[j],metric=metric_list[k])\n",
    "                    knn.fit(train_features_folds[l],train_classes_folds[l])\n",
    "                    Y_pred_knn = knn.predict(val_features_folds[l])\n",
    "                    knn_score=accuracy_score(val_classes_folds[l],Y_pred_knn)*100\n",
    "                    knn_f1score = f1_score(val_classes_folds[l],Y_pred_knn)\n",
    "                    accuracy.append(knn_score)\n",
    "                    scores_list.append(knn_f1score)\n",
    "\n",
    "\n",
    "                \n",
    "                if np.mean(scores_list) > max_f1_score:\n",
    "                    max_f1_score = np.mean(scores_list)\n",
    "                    best_n = neighbors_list[i]\n",
    "                    best_weight = weight_list[j]\n",
    "                    best_metric = metric_list[k]\n",
    "                    \n",
    "    print('KNN has the best f1_score of ', max_f1_score, ' for: number of neighbors = ', best_n, ' , weight = ', best_weight\n",
    "    , ',metric = ', best_metric)"
   ]
  },
  {
   "attachments": {},
   "cell_type": "markdown",
   "metadata": {},
   "source": [
    "### 5. Ridge Classifier"
   ]
  },
  {
   "cell_type": "code",
   "execution_count": 20,
   "metadata": {},
   "outputs": [],
   "source": [
    "def ridge_class(folds,folds_classes):\n",
    "    max_f1_score = 0\n",
    "    max_accuracy = 0\n",
    "    best_alpha = 0\n",
    "    best_solver = 'None'\n",
    "    best_intercept = 'None'\n",
    "    alpha_list = [0.1,1,10]\n",
    "    solver_list = ['auto','svd','cholesky','lsqr','sparse_cg','sag','saga']\n",
    "    intercept_list = ['minkowski','chebyshev','euclidean']\n",
    "    for i in range(len(alpha_list)):\n",
    "        for j in range(len(solver_list)):\n",
    "            for k in range(len(intercept_list)):\n",
    "                accuracy = []\n",
    "                scores_list=[]\n",
    "                train_features_folds,train_classes_folds,val_features_folds,val_classes_folds = cross_val(folds,folds_classes)\n",
    "                for l in range(len(train_classes_folds)):\n",
    "                    classifier = RidgeClassifier(alpha=alpha_list[i],solver=solver_list[j],class_weight='balanced',\n",
    "                                                fit_intercept=intercept_list[k])\n",
    "                    classifier.fit(train_features_folds[l],train_classes_folds[l])\n",
    "                    Y_pred_ridge = classifier.predict(val_features_folds[l])\n",
    "                    ridge_score=accuracy_score(val_classes_folds[l],Y_pred_ridge)*100\n",
    "                    ridge_f1_score = f1_score(val_classes_folds[l],Y_pred_ridge)\n",
    "                    accuracy.append(ridge_score)\n",
    "                    scores_list.append(ridge_f1_score)\n",
    "                \n",
    "                if np.mean(scores_list) > max_f1_score:\n",
    "                    max_f1_score = np.mean(scores_list)\n",
    "                    best_alpha = alpha_list[i]\n",
    "                    best_solver = solver_list[j]\n",
    "                    best_intercept = intercept_list[k]\n",
    "                    \n",
    "    print('Ridge Classifier has the best f1_score of ', max_f1_score, ' for: alpha = ', best_alpha, ' , solver = ', best_solver,\n",
    "         ' , intercept = ', best_intercept)\n"
   ]
  },
  {
   "attachments": {},
   "cell_type": "markdown",
   "metadata": {},
   "source": [
    "### 6. Logistic Regression Classifier"
   ]
  },
  {
   "cell_type": "code",
   "execution_count": 21,
   "metadata": {},
   "outputs": [],
   "source": [
    "def log_reg(folds,folds_classes):\n",
    "    max_accuracy = 0\n",
    "    max_f1_score=0\n",
    "    best_solver = 'None'\n",
    "    solver_list = ['newton-cg','liblinear','lbfgs']\n",
    "    for i in range(len(solver_list)):\n",
    "        accuracy = []\n",
    "        scores_list=[]\n",
    "        train_features_folds,train_classes_folds,val_features_folds,val_classes_folds = cross_val(folds,folds_classes)\n",
    "        for l in range(len(train_classes_folds)):\n",
    "            classifier = LogisticRegression(solver=solver_list[i],penalty='l2')\n",
    "            classifier.fit(train_features_folds[l],train_classes_folds[l])\n",
    "            Y_pred_logreg = classifier.predict(val_features_folds[l])\n",
    "            logreg_score=accuracy_score(val_classes_folds[l],Y_pred_logreg)*100\n",
    "            accuracy.append(logreg_score)\n",
    "            logreg_f1score = f1_score(val_classes_folds[l],Y_pred_logreg)\n",
    "            scores_list.append(logreg_f1score)\n",
    "\n",
    "        if np.mean(scores_list) > max_f1_score:\n",
    "            max_f1_score = np.mean(scores_list)\n",
    "            best_solver = solver_list[i]\n",
    "            \n",
    "    print('Logistic Regression Classifier has the best f1_score of ', max_f1_score, ' for: solver = ', best_solver)"
   ]
  },
  {
   "attachments": {},
   "cell_type": "markdown",
   "metadata": {},
   "source": [
    "### 7. Random Forest Classifier"
   ]
  },
  {
   "cell_type": "code",
   "execution_count": 22,
   "metadata": {},
   "outputs": [],
   "source": [
    "def rand_forest(folds,folds_classes):\n",
    "    max_accuracy = 0\n",
    "    max_f1_score=0\n",
    "    best_features = 'none'\n",
    "    best_criterion = 'none'\n",
    "    best_n_est = 0\n",
    "    \n",
    "    features_list = ['auto','sqrt','log2']\n",
    "    criterion_list = ['gini','entropy']\n",
    "    n_est_list = [100,200,300,350]\n",
    "    \n",
    "    for i in range(len(features_list)):\n",
    "        for j in range(len(criterion_list)):\n",
    "            for k in range(len(n_est_list)):\n",
    "                accuracy = []\n",
    "                scores_list=[]\n",
    "                train_features_folds,train_classes_folds,val_features_folds,val_classes_folds = cross_val(folds,folds_classes)\n",
    "                for l in range(len(train_classes_folds)):\n",
    "                    rf = RandomForestClassifier(max_features=features_list[i],criterion=criterion_list[j],n_estimators=n_est_list[k])\n",
    "                    rf.fit(train_features_folds[l],train_classes_folds[l])\n",
    "                    Y_pred_rf = rf.predict(val_features_folds[l])\n",
    "                    rf_score=accuracy_score(val_classes_folds[l],Y_pred_rf)*100\n",
    "                    rf_f1score = f1_score(val_classes_folds[l],Y_pred_rf)\n",
    "                    scores_list.append(rf_f1score)\n",
    "                    accuracy.append(rf_score)\n",
    "                \n",
    "                if np.mean(scores_list) > max_f1_score:\n",
    "                    max_f1_score = np.mean(scores_list)\n",
    "                    best_features = features_list[i]\n",
    "                    best_criterion = criterion_list[j]\n",
    "                    best_n_est = n_est_list[k]\n",
    "    \n",
    "    print('Random Forest has the best f1_score of ', max_f1_score, ' for: max_features = ', best_features, ' , criterion = ',\n",
    "     best_criterion, ' , n_estimators = ', best_n_est)"
   ]
  },
  {
   "attachments": {},
   "cell_type": "markdown",
   "metadata": {},
   "source": [
    "## Model Selection using PCA"
   ]
  },
  {
   "cell_type": "code",
   "execution_count": 25,
   "metadata": {},
   "outputs": [],
   "source": [
    "def model_selection_PCA(min_dim,max_dim):\n",
    "    for i in range(min_dim,max_dim):\n",
    "        PCA_train,PCA_test = PCA_func(expanded_train_features,expanded_test_features,i)\n",
    "        folds, folds_classes = k_fold(PCA_train,expanded_train_classes)\n",
    "\n",
    "        print('SVM:')\n",
    "        SVM_func(folds,folds_classes)\n",
    "        print()\n",
    "\n",
    "        print('Sklearn Neural Networks:')\n",
    "        NN(folds,folds_classes)\n",
    "        print()\n",
    "\n",
    "        print('Keras ANN:')\n",
    "        ANN_keras(folds,folds_classes)\n",
    "        print()\n",
    "\n",
    "        print('KNN:')\n",
    "        KNN(folds,folds_classes)\n",
    "        print()\n",
    "\n",
    "        print('Ridge Classifier:')\n",
    "        ridge_class(folds,folds_classes)\n",
    "        print()\n",
    "\n",
    "        print('Logistic Regression:')\n",
    "        log_reg(folds,folds_classes)\n",
    "        print()\n",
    "\n",
    "        print('Random Forest:')\n",
    "        rand_forest(folds,folds_classes)\n",
    "        print(\"--------------------------------------------------------------------------------------------\")"
   ]
  },
  {
   "cell_type": "code",
   "execution_count": 26,
   "metadata": {},
   "outputs": [
    {
     "name": "stdout",
     "output_type": "stream",
     "text": [
      "SVM:\n",
      "SVM has the best f1_score of  0.922184747360063  for: C =  0.1  , gamma =  1  , kernel =  linear\n",
      "\n",
      "Sklearn Neural Networks:\n",
      "Accuracy: NN is 84.5959595959596%\n",
      "F1 Score: NN 0.8548124927435272\n",
      "\n",
      "Keras ANN:\n",
      "1/1 [==============================] - 0s 59ms/step\n",
      "1/1 [==============================] - 0s 52ms/step\n",
      "1/1 [==============================] - 0s 52ms/step\n",
      "1/1 [==============================] - 0s 43ms/step\n",
      "1/1 [==============================] - 0s 69ms/step\n",
      "1/1 [==============================] - 0s 58ms/step\n",
      "Acc: KerasNN is 81.88131313131312%\n",
      "f1score: KerasNN is 0.8475525009464518\n",
      "\n",
      "KNN:\n",
      "KNN has the best f1_score of  0.9025528085630388  for: number of neighbors =  10  , weight =  uniform ,metric =  minkowski\n",
      "\n",
      "Ridge Classifier:\n",
      "Ridge Classifier has the best f1_score of  0.843342731829574  for: alpha =  1  , solver =  saga  , intercept =  minkowski\n",
      "\n",
      "Logistic Regression:\n",
      "Logistic Regression Classifier has the best f1_score of  0.9287421864939027  for: solver =  newton-cg\n",
      "\n",
      "Random Forest:\n",
      "Random Forest has the best f1_score of  0.9017843930887409  for: max_features =  auto  , criterion =  gini  , n_estimators =  200\n",
      "--------------------------------------------------------------------------------------------\n"
     ]
    }
   ],
   "source": [
    "model_selection_PCA(9,10)"
   ]
  },
  {
   "attachments": {},
   "cell_type": "markdown",
   "metadata": {},
   "source": [
    "## Model Selection using Sequential Feature Selection"
   ]
  },
  {
   "cell_type": "code",
   "execution_count": 28,
   "metadata": {},
   "outputs": [],
   "source": [
    "def model_selection_sfs(train,labels,n_max):\n",
    "    cols = seq_feat_selector(train,labels,n_max)\n",
    "    train_sfs = train[cols]\n",
    "    folds, folds_classes = k_fold(train_sfs,labels)\n",
    "\n",
    "    print('SVM:')\n",
    "    SVM_func(folds, folds_classes)\n",
    "    print()\n",
    "\n",
    "    print('Sklearn Neural Networks:')\n",
    "    NN(folds, folds_classes)\n",
    "    print()\n",
    "\n",
    "    print('Keras ANN:')\n",
    "    ANN_keras(folds, folds_classes)\n",
    "    print()\n",
    "\n",
    "    print('KNN:')\n",
    "    KNN(folds,folds_classes)\n",
    "    print()\n",
    "\n",
    "    print('Ridge Classifier:')\n",
    "    ridge_class(folds, folds_classes)\n",
    "    print()\n",
    "\n",
    "    print('Logistic Regression:')\n",
    "    log_reg(folds, folds_classes)\n",
    "    print()\n",
    "\n",
    "    print('Random Forest:')\n",
    "    rand_forest(folds, folds_classes)\n",
    "    print(\"--------------------------------------------------------------------------------------------\")\n"
   ]
  },
  {
   "cell_type": "code",
   "execution_count": 29,
   "metadata": {},
   "outputs": [
    {
     "name": "stdout",
     "output_type": "stream",
     "text": [
      "SVM:\n",
      "SVM has the best f1_score of  0.9411976911976913  for: C =  1  , gamma =  0.01  , kernel =  rbf\n",
      "\n",
      "Sklearn Neural Networks:\n",
      "Accuracy: NN is 89.58333333333334%\n",
      "F1 Score: NN 0.8978490913273522\n",
      "\n",
      "Keras ANN:\n",
      "1/1 [==============================] - 0s 66ms/step\n",
      "1/1 [==============================] - 0s 78ms/step\n",
      "1/1 [==============================] - 0s 51ms/step\n",
      "1/1 [==============================] - 0s 45ms/step\n",
      "1/1 [==============================] - 0s 62ms/step\n",
      "1/1 [==============================] - 0s 68ms/step\n",
      "Acc: KerasNN is 90.84595959595958%\n",
      "f1score: KerasNN is 0.9111583306091315\n",
      "\n",
      "KNN:\n",
      "KNN has the best f1_score of  0.9452582301419511  for: number of neighbors =  5  , weight =  uniform ,metric =  minkowski\n",
      "\n",
      "Ridge Classifier:\n",
      "Ridge Classifier has the best f1_score of  0.9425048127565291  for: alpha =  0.1  , solver =  auto  , intercept =  minkowski\n",
      "\n",
      "Logistic Regression:\n",
      "Logistic Regression Classifier has the best f1_score of  0.9346100759144238  for: solver =  liblinear\n",
      "\n",
      "Random Forest:\n",
      "Random Forest has the best f1_score of  0.9353315766359245  for: max_features =  auto  , criterion =  gini  , n_estimators =  100\n",
      "--------------------------------------------------------------------------------------------\n"
     ]
    }
   ],
   "source": [
    "model_selection_sfs(expanded_train_features,expanded_train_classes,9)"
   ]
  },
  {
   "attachments": {},
   "cell_type": "markdown",
   "metadata": {},
   "source": [
    "#### KNN using Sequential Feature Selection has the best performance with an F1 score of 0.945"
   ]
  },
  {
   "attachments": {},
   "cell_type": "markdown",
   "metadata": {},
   "source": [
    "## Pickling the Model File for Deployment"
   ]
  },
  {
   "cell_type": "code",
   "execution_count": 30,
   "metadata": {},
   "outputs": [],
   "source": [
    "import pickle"
   ]
  },
  {
   "cell_type": "code",
   "execution_count": 31,
   "metadata": {},
   "outputs": [],
   "source": [
    "cols = seq_feat_selector(expanded_train_features,expanded_train_classes,9)\n",
    "train_sfs = expanded_train_features[cols]\n",
    "test_sfs = expanded_test_features[cols]"
   ]
  },
  {
   "cell_type": "code",
   "execution_count": 42,
   "metadata": {},
   "outputs": [],
   "source": [
    "knn = KNeighborsClassifier(n_neighbors=5,weights='uniform',metric='minkowski')\n",
    "knn.fit(train_sfs,expanded_train_classes)\n",
    "best_model_params = {}\n",
    "best_model_params['columns'] = cols\n",
    "best_model_params['model'] = knn\n",
    "best_model_params['scaler'] = scaler\n",
    "pickle.dump(best_model_params,open('./best_model.pkl','wb'))"
   ]
  }
 ],
 "metadata": {
  "kernelspec": {
   "display_name": "base",
   "language": "python",
   "name": "python3"
  },
  "language_info": {
   "codemirror_mode": {
    "name": "ipython",
    "version": 3
   },
   "file_extension": ".py",
   "mimetype": "text/x-python",
   "name": "python",
   "nbconvert_exporter": "python",
   "pygments_lexer": "ipython3",
   "version": "3.9.7 (default, Sep 16 2021, 16:59:28) [MSC v.1916 64 bit (AMD64)]"
  },
  "orig_nbformat": 4,
  "vscode": {
   "interpreter": {
    "hash": "2192f9d885622e466fea87b0cbb1646d8452e63a1a8c9ac8e5c187fbb47320c7"
   }
  }
 },
 "nbformat": 4,
 "nbformat_minor": 2
}
