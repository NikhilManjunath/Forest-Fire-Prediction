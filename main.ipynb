{
 "cells": [
  {
   "attachments": {},
   "cell_type": "markdown",
   "metadata": {},
   "source": [
    "### Importing Libraries"
   ]
  },
  {
   "cell_type": "code",
   "execution_count": 1,
   "metadata": {},
   "outputs": [],
   "source": [
    "import numpy as np\n",
    "import pandas as pd\n",
    "import random\n",
    "import matplotlib.pyplot as plt\n",
    "import seaborn as sns\n",
    "from sklearn.decomposition import PCA\n",
    "from sklearn.neural_network import MLPClassifier\n",
    "from keras.models import Sequential\n",
    "from keras.layers import Dense\n",
    "from sklearn.neighbors import KNeighborsClassifier\n",
    "from sklearn.linear_model import LogisticRegression\n",
    "from sklearn.linear_model import RidgeClassifier\n",
    "from sklearn.svm import SVC\n",
    "from sklearn.metrics import *\n",
    "from sklearn.feature_selection import SequentialFeatureSelector\n",
    "import pickle\n",
    "from sklearn.preprocessing import PolynomialFeatures,StandardScaler\n",
    "\n",
    "#Supress Sklearn Warnings\n",
    "def warn(*args, **kwargs):\n",
    "    pass\n",
    "import warnings\n",
    "warnings.warn = warn"
   ]
  },
  {
   "attachments": {},
   "cell_type": "markdown",
   "metadata": {},
   "source": [
    "### Importing our functions"
   ]
  },
  {
   "cell_type": "code",
   "execution_count": 2,
   "metadata": {},
   "outputs": [],
   "source": [
    "from functions import compute_metrics,trivial,nearest_means"
   ]
  },
  {
   "attachments": {},
   "cell_type": "markdown",
   "metadata": {},
   "source": [
    "### Importing the Datasets"
   ]
  },
  {
   "cell_type": "code",
   "execution_count": 3,
   "metadata": {},
   "outputs": [],
   "source": [
    "train = pd.read_csv('algerian_fires_train.csv')\n",
    "test = pd.read_csv('algerian_fires_test.csv')"
   ]
  },
  {
   "attachments": {},
   "cell_type": "markdown",
   "metadata": {},
   "source": [
    "### Trivial Model Performance"
   ]
  },
  {
   "cell_type": "code",
   "execution_count": 4,
   "metadata": {},
   "outputs": [
    {
     "name": "stdout",
     "output_type": "stream",
     "text": [
      "              precision    recall  f1-score   support\n",
      "\n",
      "           0       0.58      0.38      0.46        37\n",
      "           1       0.36      0.57      0.44        23\n",
      "\n",
      "    accuracy                           0.45        60\n",
      "   macro avg       0.47      0.47      0.45        60\n",
      "weighted avg       0.50      0.45      0.45        60\n",
      "\n",
      "{'false_negatives': 10, 'accuracy': 0.45, 'precision': 0.36, 'recall': 0.57, 'f1_score': 0.44}\n"
     ]
    },
    {
     "data": {
      "image/png": "[encoded data removed]",
      "text/plain": [
       "<Figure size 432x288 with 2 Axes>"
      ]
     },
     "metadata": {
      "needs_background": "light"
     },
     "output_type": "display_data"
    }
   ],
   "source": [
    "trivial(train,test)"
   ]
  },
  {
   "attachments": {},
   "cell_type": "markdown",
   "metadata": {},
   "source": [
    "### Baseline Model Performance"
   ]
  },
  {
   "cell_type": "code",
   "execution_count": 5,
   "metadata": {},
   "outputs": [
    {
     "name": "stdout",
     "output_type": "stream",
     "text": [
      "Accuracy of Nearest Means on the Test Dataset is 78.33 %\n",
      "              precision    recall  f1-score   support\n",
      "\n",
      "           0       0.75      0.97      0.85        37\n",
      "           1       0.92      0.48      0.63        23\n",
      "\n",
      "    accuracy                           0.78        60\n",
      "   macro avg       0.83      0.73      0.74        60\n",
      "weighted avg       0.81      0.78      0.76        60\n",
      "\n",
      "{'false_negatives': 12, 'accuracy': 0.78, 'precision': 0.92, 'recall': 0.48, 'f1_score': 0.64}\n"
     ]
    },
    {
     "data": {
      "image/png": "[encoded data removed]",
      "text/plain": [
       "<Figure size 432x288 with 2 Axes>"
      ]
     },
     "metadata": {
      "needs_background": "light"
     },
     "output_type": "display_data"
    }
   ],
   "source": [
    "nearest_means(train,test)"
   ]
  },
  {
   "attachments": {},
   "cell_type": "markdown",
   "metadata": {},
   "source": [
    "### Best Supervised Algorithm Performance"
   ]
  },
  {
   "attachments": {},
   "cell_type": "markdown",
   "metadata": {},
   "source": [
    "#### Importing the Best Training Model"
   ]
  },
  {
   "cell_type": "code",
   "execution_count": 6,
   "metadata": {},
   "outputs": [],
   "source": [
    "best_model_params = pickle.load(open('./best_model.pkl','rb'))"
   ]
  },
  {
   "attachments": {},
   "cell_type": "markdown",
   "metadata": {},
   "source": [
    "#### Preparing the test data for prediction"
   ]
  },
  {
   "cell_type": "code",
   "execution_count": 7,
   "metadata": {},
   "outputs": [],
   "source": [
    "#Since none of the Avg,Min,Max features were used in the final predictions,we will just create these columns and store zeroes\n",
    "#We need these columns as standard scaling was done on expanded feature set\n",
    "test['Avg_Temp'] = 0\n",
    "test['Min_Temp'] = 0\n",
    "test['Max_Temp'] = 0\n",
    "test['Avg_RH'] = 0\n",
    "test['Min_RH'] = 0\n",
    "test['Max_RH'] = 0\n",
    "test['Avg_Ws'] = 0\n",
    "test['Min_Ws'] = 0\n",
    "test['Max_Ws'] = 0\n",
    "test['Avg_Rain'] = 0\n",
    "test['Min_Rain'] = 0\n",
    "test['Max_Rain'] = 0\n",
    "test['Date'] = 0\n",
    "test['Day of Week'] = 0\n",
    "test['Weekday/Weekend'] = 0\n",
    "\n",
    "\n",
    "#Creating the polynomial expanded features\n",
    "poly_columns = ['Temperature', 'RH', 'Ws', 'Rain', 'FFMC', 'DMC', 'DC', 'ISI', 'BUI']\n",
    "poly = PolynomialFeatures(2)\n",
    "expanded_test = poly.fit_transform(test[poly_columns])\n",
    "feature_names = poly.get_feature_names_out(input_features=None)\n",
    "expanded_test = pd.DataFrame(expanded_test, columns=feature_names)\n",
    "expanded_test = expanded_test.drop(columns=['1'])\n",
    "test.reset_index(inplace=True)\n",
    "\n",
    "#Adding the new columns\n",
    "expanded_test.insert(1, \"Avg_Temp\", test['Avg_Temp'])\n",
    "expanded_test.insert(2, \"Min_Temp\", test['Min_Temp'])\n",
    "expanded_test.insert(3, \"Max_Temp\", test['Max_Temp'])\n",
    "expanded_test.insert(5, \"Avg_RH\", test['Avg_RH'])\n",
    "expanded_test.insert(6, \"Min_RH\", test['Min_RH'])\n",
    "expanded_test.insert(7, \"Max_RH\", test['Max_RH'])\n",
    "expanded_test.insert(9, \"Avg_Ws\", test['Avg_Ws'])\n",
    "expanded_test.insert(10, \"Min_Ws\", test['Min_Ws'])\n",
    "expanded_test.insert(11, \"Max_Ws\", test['Max_Ws'])\n",
    "expanded_test.insert(12, \"Avg_Rain\", test['Avg_Rain'])\n",
    "expanded_test.insert(13, \"Min_Rain\", test['Min_Rain'])\n",
    "expanded_test.insert(14, \"Max_Rain\", test['Max_Rain'])\n",
    "expanded_test.insert(0, \"Weekday/Weekend\", test['Weekday/Weekend'])\n",
    "\n",
    "#Getting the columns\n",
    "columns = []\n",
    "for column in expanded_test.columns:\n",
    "    columns.append(column)\n",
    "\n",
    "#Standardization\n",
    "scaler = best_model_params['scaler']\n",
    "expanded_test.loc[:, expanded_test.columns != 'Classes'] = scaler.transform(expanded_test.loc[:, expanded_test.columns != 'Classes'])\n",
    "expanded_test = pd.DataFrame(expanded_test, columns=columns)\n",
    "\n",
    "# #Taking only those columns which were selected using SFS on train dataset\n",
    "expanded_test = expanded_test[best_model_params['columns']]"
   ]
  },
  {
   "attachments": {},
   "cell_type": "markdown",
   "metadata": {},
   "source": [
    "#### Predicting the test set"
   ]
  },
  {
   "cell_type": "code",
   "execution_count": 10,
   "metadata": {},
   "outputs": [
    {
     "name": "stdout",
     "output_type": "stream",
     "text": [
      "Accuracy on test set with best Supervised Model (KNN) is: 86.66666666666667%\n",
      "f1score on test set with best Supervised Model (KNN) is: 0.8181818181818182\n"
     ]
    },
    {
     "data": {
      "image/png": "[encoded data removed]",
      "text/plain": [
       "<Figure size 432x288 with 2 Axes>"
      ]
     },
     "metadata": {
      "needs_background": "light"
     },
     "output_type": "display_data"
    }
   ],
   "source": [
    "model = best_model_params['model']\n",
    "Y_pred = model.predict(expanded_test)\n",
    "model_score=accuracy_score(test[['Classes']],Y_pred)\n",
    "model_f1score = f1_score(test[['Classes']],Y_pred)\n",
    "sns.heatmap(confusion_matrix(test[['Classes']],Y_pred),annot=True)\n",
    "print(f'Accuracy on test set with best Supervised Model (KNN) is: {model_score*100}%')\n",
    "print(f'f1score on test set with best Supervised Model (KNN) is: {model_f1score}')"
   ]
  }
 ],
 "metadata": {
  "kernelspec": {
   "display_name": "base",
   "language": "python",
   "name": "python3"
  },
  "language_info": {
   "codemirror_mode": {
    "name": "ipython",
    "version": 3
   },
   "file_extension": ".py",
   "mimetype": "text/x-python",
   "name": "python",
   "nbconvert_exporter": "python",
   "pygments_lexer": "ipython3",
   "version": "3.9.7"
  },
  "orig_nbformat": 4,
  "vscode": {
   "interpreter": {
    "hash": "2192f9d885622e466fea87b0cbb1646d8452e63a1a8c9ac8e5c187fbb47320c7"
   }
  }
 },
 "nbformat": 4,
 "nbformat_minor": 2
}
